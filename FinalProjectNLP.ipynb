{
  "nbformat": 4,
  "nbformat_minor": 0,
  "metadata": {
    "colab": {
      "provenance": [],
      "authorship_tag": "ABX9TyOy4BeClhU/kPU9w5sSgDJ5",
      "include_colab_link": true
    },
    "kernelspec": {
      "name": "python3",
      "display_name": "Python 3"
    },
    "language_info": {
      "name": "python"
    }
  },
  "cells": [
    {
      "cell_type": "markdown",
      "metadata": {
        "id": "view-in-github",
        "colab_type": "text"
      },
      "source": [
        "<a href=\"https://colab.research.google.com/github/raian621/FinalProjectNLP/blob/main/FinalProjectNLP.ipynb\" target=\"_parent\"><img src=\"https://colab.research.google.com/assets/colab-badge.svg\" alt=\"Open In Colab\"/></a>"
      ]
    },
    {
      "cell_type": "markdown",
      "source": [
        "# Summary-Augmented Sentiment Analysis\n",
        "\n",
        "## CSCE 4290 - Introduction to Natural Language Processing\n",
        "\n",
        "- Ryan Bell\n",
        "- Farouq Siwoku"
      ],
      "metadata": {
        "id": "XivSxjmvOgio"
      }
    },
    {
      "cell_type": "markdown",
      "source": [
        "**Contents**\n",
        "1. [Introduction](#scrollTo=NyWwimvyPOTi)\n",
        "  - [1.1 Problem](#scrollTo=IzaaYyYzRAvB)\n",
        "  - [1.2 Importance](#scrollTo=0aopY4JIRE6x)\n",
        "  - [1.3 Dataset](#scrollTo=X7IAZFhXSmZH)\n",
        "  - [1.4 Proposed Methodology](#scrollTo=efdTl80eRHmm)\n",
        "  - [1.5 Project Management](#scrollTo=BblVXk1DSXbk)\n",
        "2. [Implementation](#scrollTo=sY3kog91Q3az)\n",
        "  - [2.1 Exploratory Data Analysis](#scrollTo=rmvhO7ncSbYr)\n",
        "  - [2.2 Sentiment Analysis on Entire Passages](#scrollTo=TKJSjIK2OzMr)\n",
        "    - [2.2.1 Aggregate Bag of Words](#scrollTo=opEbHPEJOMrn)\n",
        "  - [2.3 Sentiment Analysis on Summaries](#scrollTo=RSm_uKq6QYiI)\n",
        "    - [2.3.1 Summary Feature Engineering](#scrollTo=W_rR079PQ3Zf)\n",
        "    - [2.3.2 Summarized Bag of Words](#scrollTo=laz-aTE3OfEK)\n",
        "3. [Results](#scrollTo=H7TLZ7lIPUng)\n",
        "4. [Conclusion](#scrollTo=MrV4glZJQ61_)\n",
        "\n"
      ],
      "metadata": {
        "id": "9VhauWHZPPzr"
      }
    },
    {
      "cell_type": "markdown",
      "source": [
        "## 1. Introduction"
      ],
      "metadata": {
        "id": "NyWwimvyPOTi"
      }
    },
    {
      "cell_type": "markdown",
      "source": [
        "### 1.1 Problem"
      ],
      "metadata": {
        "id": "IzaaYyYzRAvB"
      }
    },
    {
      "cell_type": "markdown",
      "source": [
        "What is the problem we want to solve, and a hypothesis\n",
        "- PERFORMANCE: Improve the performance of sentiment analysis\n",
        "- HYPOTHESIS: Maybe using a summary instead of the entire text for sentiment analysis will improve the accuracy of ML model's performance."
      ],
      "metadata": {
        "id": "8ZymZojzRp9E"
      }
    },
    {
      "cell_type": "markdown",
      "source": [
        "### 1.2 Importance"
      ],
      "metadata": {
        "id": "0aopY4JIRE6x"
      }
    },
    {
      "cell_type": "markdown",
      "source": [
        "- Model could be used to predict the sentiment of news stories about a stock\n",
        "- Model could also be used to predict the general opinion on a product or move made by a company\n",
        "- Using summaries may result in a smaller corpora, and thus bag-of-words models may consume less memory\n",
        "- etc."
      ],
      "metadata": {
        "id": "174jkjm8Rl_I"
      }
    },
    {
      "cell_type": "markdown",
      "source": [
        "### 1.3 Dataset"
      ],
      "metadata": {
        "id": "X7IAZFhXSmZH"
      }
    },
    {
      "cell_type": "markdown",
      "source": [
        "Explain the source of the dataset, how it was compiled, the features in the dataset, what features we're planning to use, etc."
      ],
      "metadata": {
        "id": "fJJn7FBRSpdl"
      }
    },
    {
      "cell_type": "markdown",
      "source": [
        "### 1.4 Proposed Methodology"
      ],
      "metadata": {
        "id": "efdTl80eRHmm"
      }
    },
    {
      "cell_type": "markdown",
      "source": [
        "Write about what models we'll use, what combination of solutions (sentiment analysis and summarization in this case) we'll employ, what features we'll use, and what kind of cross validation / train test split we'll utilize.\n",
        "\n",
        "models:\n",
        "- Summarization:\n",
        "  - Some Generative Pre-trained Transformer (GPT) model(s)\n",
        "  - Maybe a naive summary of just the set of the most common $N$ words?\n",
        "- Sentiment Analysis:\n",
        "  - Bag of Words:\n",
        "    - Naive Bayes\n",
        "    - Decision Tree\n",
        "    - Logistic Regression\n",
        "  - Word Embeddings\n",
        "    - Some Bidirectional Encoder Representations from Transformer (BERT) model(s)\n",
        "\n",
        "Summary -> Sentiment Analysis = Better Accuracy?"
      ],
      "metadata": {
        "id": "qLVQ4dR7RR6j"
      }
    },
    {
      "cell_type": "markdown",
      "source": [
        "### 1.5 Project Management\n"
      ],
      "metadata": {
        "id": "BblVXk1DSXbk"
      }
    },
    {
      "cell_type": "markdown",
      "source": [
        "Explain how the project was organized I guess. The rubric isn't clear on what this means"
      ],
      "metadata": {
        "id": "HHWdvpxBSvig"
      }
    },
    {
      "cell_type": "markdown",
      "source": [
        "## 2. Implementation"
      ],
      "metadata": {
        "id": "sY3kog91Q3az"
      }
    },
    {
      "cell_type": "code",
      "source": [
        "# imports and dependencies\n",
        "import pandas as pd\n",
        "import numpy as np\n",
        "import matplotlib.pyplot as plt\n",
        "import seaborn as sns\n",
        "\n",
        "# natural language processing tools\n",
        "import nltk\n",
        "from nltk.corpus import stopwords\n",
        "from nltk.stem import PorterStemmer\n",
        "from nltk.tokenize import word_tokenize\n",
        "\n",
        "nltk.download('stopwords')\n",
        "\n",
        "# metrics and train-test splitting\n",
        "from sklearn.metrics import (\n",
        "    accuracy_score,\n",
        "    precision_score,\n",
        "    recall_score,\n",
        "    f1_score\n",
        ")\n",
        "from sklearn.model_selection import train_test_split\n",
        "# \"classic\" machine learning models for classification:\n",
        "from sklearn.naive_bayes import MultinomialNB\n",
        "from sklearn.tree import DecisionTreeClassifier\n",
        "from sklearn.linear_model import LogisticRegression"
      ],
      "metadata": {
        "colab": {
          "base_uri": "https://localhost:8080/"
        },
        "id": "SHi9Fgm7Vite",
        "outputId": "ba7ea4e6-ecca-4fa2-9b48-326694585b68"
      },
      "execution_count": null,
      "outputs": [
        {
          "output_type": "stream",
          "name": "stderr",
          "text": [
            "[nltk_data] Downloading package stopwords to /root/nltk_data...\n",
            "[nltk_data]   Package stopwords is already up-to-date!\n"
          ]
        }
      ]
    },
    {
      "cell_type": "markdown",
      "source": [
        "### 2.1 Exploratory Data Analysis"
      ],
      "metadata": {
        "id": "rmvhO7ncSbYr"
      }
    },
    {
      "cell_type": "markdown",
      "source": [
        "Load the dataset and make some fancy graphs."
      ],
      "metadata": {
        "id": "5knkDArrSfTB"
      }
    },
    {
      "cell_type": "code",
      "source": [],
      "metadata": {
        "id": "NVzoqVHvV5SQ"
      },
      "execution_count": null,
      "outputs": []
    },
    {
      "cell_type": "markdown",
      "source": [
        "### 2.2 Sentiment Analysis on Entire Passages"
      ],
      "metadata": {
        "id": "TKJSjIK2OzMr"
      }
    },
    {
      "cell_type": "code",
      "source": [
        "ps = PorterStemmer()\n",
        "\n",
        "def stem_tokenizer(text, stem=ps.stem):\n",
        "  \"\"\"\n",
        "  tokenizes a text passage into individual words and stems each word. returns a\n",
        "  list of stemmed words from the given text passage\n",
        "  \"\"\"\n",
        "  words = word_tokenize(text)\n",
        "  stemmed_words = []\n",
        "  for word in words:\n",
        "    word_lower = word.lower()\n",
        "    if word_lower not in stopwords.words('english'):\n",
        "      stemmed_words.append(stem(word_lower))\n",
        "  return stemmed_words\n",
        "\n",
        "def print_scores(clf, y_pred, y_target):\n"
      ],
      "metadata": {
        "id": "gK3UZwznYzZS"
      },
      "execution_count": null,
      "outputs": []
    },
    {
      "cell_type": "markdown",
      "source": [
        "#### 2.2.1 Aggregate Bag of Words"
      ],
      "metadata": {
        "id": "opEbHPEJOMrn"
      }
    },
    {
      "cell_type": "code",
      "source": [],
      "metadata": {
        "id": "r4rfqXHLV62w"
      },
      "execution_count": null,
      "outputs": []
    },
    {
      "cell_type": "markdown",
      "source": [
        "### 2.2 Sentiment Analysis on Summaries"
      ],
      "metadata": {
        "id": "RSm_uKq6QYiI"
      }
    },
    {
      "cell_type": "markdown",
      "source": [
        "Generate a bag of words representative of the entire corpus:"
      ],
      "metadata": {
        "id": "9_0MhFSGRHdF"
      }
    },
    {
      "cell_type": "code",
      "source": [],
      "metadata": {
        "id": "qaA3GLheV86R"
      },
      "execution_count": null,
      "outputs": []
    },
    {
      "cell_type": "markdown",
      "source": [
        "#### 2.3.1 Summary Feature Engineering"
      ],
      "metadata": {
        "id": "W_rR079PQ3Zf"
      }
    },
    {
      "cell_type": "markdown",
      "source": [
        "Generate the summaries for each passage of text that we can use as a \"summarized\" corpora"
      ],
      "metadata": {
        "id": "uPnzkYqQRSQO"
      }
    },
    {
      "cell_type": "markdown",
      "source": [
        "#### 2.3.2 Summarized Bag of Words"
      ],
      "metadata": {
        "id": "laz-aTE3OfEK"
      }
    },
    {
      "cell_type": "code",
      "source": [],
      "metadata": {
        "id": "0RgPptU8V9dK"
      },
      "execution_count": null,
      "outputs": []
    },
    {
      "cell_type": "markdown",
      "source": [
        "## 3. Results"
      ],
      "metadata": {
        "id": "H7TLZ7lIPUng"
      }
    },
    {
      "cell_type": "markdown",
      "source": [
        "Show the final metrics for each model / combination of models"
      ],
      "metadata": {
        "id": "H3lOJ45rRy_N"
      }
    },
    {
      "cell_type": "code",
      "source": [],
      "metadata": {
        "id": "Cp0SOs4WV_Xj"
      },
      "execution_count": null,
      "outputs": []
    },
    {
      "cell_type": "markdown",
      "source": [
        "## 4. Conclusion\n"
      ],
      "metadata": {
        "id": "MrV4glZJQ61_"
      }
    },
    {
      "cell_type": "markdown",
      "source": [
        "Conclude with a conclusion in the concluding paragraph"
      ],
      "metadata": {
        "id": "IckGD1UiWBt0"
      }
    }
  ]
}
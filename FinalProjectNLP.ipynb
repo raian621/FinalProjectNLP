{
  "nbformat": 4,
  "nbformat_minor": 0,
  "metadata": {
    "colab": {
      "provenance": [],
      "include_colab_link": true
    },
    "kernelspec": {
      "name": "python3",
      "display_name": "Python 3"
    },
    "language_info": {
      "name": "python"
    }
  },
  "cells": [
    {
      "cell_type": "markdown",
      "metadata": {
        "id": "view-in-github",
        "colab_type": "text"
      },
      "source": [
        "<a href=\"https://colab.research.google.com/github/raian621/FinalProjectNLP/blob/main/FinalProjectNLP.ipynb\" target=\"_parent\"><img src=\"https://colab.research.google.com/assets/colab-badge.svg\" alt=\"Open In Colab\"/></a>"
      ]
    },
    {
      "cell_type": "markdown",
      "source": [
        "# Summary-Augmented Sentiment Analysis\n",
        "\n",
        "## CSCE 4290 - Introduction to Natural Language Processing\n",
        "\n",
        "- Ryan Bell\n",
        "- Riwaj Mainali\n",
        "- Farouq Siwoku"
      ],
      "metadata": {
        "id": "XivSxjmvOgio"
      }
    },
    {
      "cell_type": "markdown",
      "source": [
        "**Contents**\n",
        "1. [Introduction](#scrollTo=NyWwimvyPOTi)\n",
        "  - [1.1 Problem](#scrollTo=IzaaYyYzRAvB)\n",
        "  - [1.2 Importance](#scrollTo=0aopY4JIRE6x)\n",
        "  - [1.3 Dataset](#scrollTo=X7IAZFhXSmZH)\n",
        "  - [1.4 Proposed Methodology](#scrollTo=efdTl80eRHmm)\n",
        "  - [1.5 Project Management](#scrollTo=BblVXk1DSXbk)\n",
        "2. [Implementation](#scrollTo=sY3kog91Q3az)\n",
        "  - [2.1 Exploratory Data Analysis](#scrollTo=rmvhO7ncSbYr)\n",
        "  - [2.2 Sentiment Analysis on Entire Passages](#scrollTo=TKJSjIK2OzMr)\n",
        "    - [2.2.1 Aggregate Bag of Words](#scrollTo=opEbHPEJOMrn)\n",
        "  - [2.3 Sentiment Analysis on Summaries](#scrollTo=RSm_uKq6QYiI)\n",
        "    - [2.3.1 Summary Feature Engineering](#scrollTo=W_rR079PQ3Zf)\n",
        "    - [2.3.2 Summarized Bag of Words](#scrollTo=laz-aTE3OfEK)\n",
        "3. [Results](#scrollTo=H7TLZ7lIPUng)\n",
        "4. [Conclusion](#scrollTo=MrV4glZJQ61_)\n",
        "\n"
      ],
      "metadata": {
        "id": "9VhauWHZPPzr"
      }
    },
    {
      "cell_type": "markdown",
      "source": [
        "## 1. Introduction"
      ],
      "metadata": {
        "id": "NyWwimvyPOTi"
      }
    },
    {
      "cell_type": "markdown",
      "source": [
        "### 1.1 Problem"
      ],
      "metadata": {
        "id": "IzaaYyYzRAvB"
      }
    },
    {
      "cell_type": "markdown",
      "source": [
        "What is the problem we want to solve, and a hypothesis\n",
        "- PERFORMANCE: Improve the performance of sentiment analysis\n",
        "- HYPOTHESIS: Maybe using a summary instead of the entire text for sentiment analysis will improve the accuracy of ML model's performance."
      ],
      "metadata": {
        "id": "8ZymZojzRp9E"
      }
    },
    {
      "cell_type": "markdown",
      "source": [
        "### 1.2 Importance"
      ],
      "metadata": {
        "id": "0aopY4JIRE6x"
      }
    },
    {
      "cell_type": "markdown",
      "source": [
        "- Model could be used to predict the sentiment of news stories about a stock\n",
        "- Model could also be used to predict the general opinion on a product or move made by a company\n",
        "- Using summaries may result in a smaller corpora, and thus bag-of-words models may consume less memory\n",
        "- etc."
      ],
      "metadata": {
        "id": "174jkjm8Rl_I"
      }
    },
    {
      "cell_type": "markdown",
      "source": [
        "### 1.3 Dataset"
      ],
      "metadata": {
        "id": "X7IAZFhXSmZH"
      }
    },
    {
      "cell_type": "markdown",
      "source": [
        "Explain the source of the dataset, how it was compiled, the features in the dataset, what features we're planning to use, etc."
      ],
      "metadata": {
        "id": "fJJn7FBRSpdl"
      }
    },
    {
      "cell_type": "markdown",
      "source": [
        "### 1.4 Proposed Methodology"
      ],
      "metadata": {
        "id": "efdTl80eRHmm"
      }
    },
    {
      "cell_type": "markdown",
      "source": [
        "Write about what models we'll use, what combination of solutions (sentiment analysis and summarization in this case) we'll employ, what features we'll use, and what kind of cross validation / train test split we'll utilize.\n",
        "\n",
        "models:\n",
        "- Summarization:\n",
        "  - Some Generative Pre-trained Transformer (GPT) model(s)\n",
        "  - Maybe a naive summary of just the set of the most common $N$ words?\n",
        "- Sentiment Analysis:\n",
        "  - Bag of Words:\n",
        "    - Naive Bayes\n",
        "    - Decision Tree\n",
        "    - Logistic Regression\n",
        "  - Word Embeddings\n",
        "    - Some Bidirectional Encoder Representations from Transformer (BERT) model(s)\n",
        "\n",
        "Summary -> Sentiment Analysis = Better Accuracy?"
      ],
      "metadata": {
        "id": "qLVQ4dR7RR6j"
      }
    },
    {
      "cell_type": "markdown",
      "source": [
        "### 1.5 Project Management\n"
      ],
      "metadata": {
        "id": "BblVXk1DSXbk"
      }
    },
    {
      "cell_type": "markdown",
      "source": [
        "Explain how the project was organized I guess. The rubric isn't clear on what this means"
      ],
      "metadata": {
        "id": "HHWdvpxBSvig"
      }
    },
    {
      "cell_type": "markdown",
      "source": [
        "## 2. Implementation"
      ],
      "metadata": {
        "id": "sY3kog91Q3az"
      }
    },
    {
      "cell_type": "code",
      "source": [
        "# imports and dependencies\n",
        "import pandas as pd\n",
        "import numpy as np\n",
        "import matplotlib.pyplot as plt\n",
        "import seaborn as sns\n",
        "\n",
        "# natural language processing tools\n",
        "import nltk\n",
        "from nltk.corpus import stopwords\n",
        "from nltk.stem import PorterStemmer\n",
        "from nltk.tokenize import word_tokenize\n",
        "\n",
        "nltk.download('stopwords')\n",
        "\n",
        "# metrics and train-test splitting\n",
        "from sklearn.metrics import (\n",
        "    accuracy_score,\n",
        "    precision_score,\n",
        "    recall_score,\n",
        "    f1_score\n",
        ")\n",
        "from sklearn.model_selection import train_test_split\n",
        "# \"classic\" machine learning models for classification:\n",
        "from sklearn.naive_bayes import MultinomialNB\n",
        "from sklearn.tree import DecisionTreeClassifier\n",
        "from sklearn.linear_model import LogisticRegression"
      ],
      "metadata": {
        "colab": {
          "base_uri": "https://localhost:8080/"
        },
        "id": "SHi9Fgm7Vite",
        "outputId": "90a51f3d-efd1-4c03-b6f4-603e549e2454"
      },
      "execution_count": 1,
      "outputs": [
        {
          "output_type": "stream",
          "name": "stderr",
          "text": [
            "[nltk_data] Downloading package stopwords to /root/nltk_data...\n",
            "[nltk_data]   Unzipping corpora/stopwords.zip.\n"
          ]
        }
      ]
    },
    {
      "cell_type": "markdown",
      "source": [
        "### 2.1 Exploratory Data Analysis"
      ],
      "metadata": {
        "id": "rmvhO7ncSbYr"
      }
    },
    {
      "cell_type": "markdown",
      "source": [
        "Load the dataset and make some fancy graphs."
      ],
      "metadata": {
        "id": "5knkDArrSfTB"
      }
    },
    {
      "cell_type": "code",
      "source": [],
      "metadata": {
        "id": "NVzoqVHvV5SQ"
      },
      "execution_count": null,
      "outputs": []
    },
    {
      "cell_type": "markdown",
      "source": [
        "### 2.2 Sentiment Analysis on Entire Passages"
      ],
      "metadata": {
        "id": "TKJSjIK2OzMr"
      }
    },
    {
      "cell_type": "code",
      "source": [
        "def stem_tokenizer(text):\n",
        "  ps = PorterStemmer()\n",
        "  words = word_tokenize(text)\n",
        "  stemmed_words = []\n",
        "  for word in words:\n",
        "    word_lower = word.lower()\n",
        "    if word_lower not in stopwords.words('english'):\n",
        "      stemmed_words.append(word_lower)\n",
        "  return stemmed_words\n",
        "\n",
        "def print_scores(clf, y_pred, y_target):\n",
        "  pass"
      ],
      "metadata": {
        "id": "gK3UZwznYzZS"
      },
      "execution_count": 2,
      "outputs": []
    },
    {
      "cell_type": "markdown",
      "source": [
        "#### 2.2.1 Aggregate Bag of Words"
      ],
      "metadata": {
        "id": "opEbHPEJOMrn"
      }
    },
    {
      "cell_type": "code",
      "source": [],
      "metadata": {
        "id": "r4rfqXHLV62w"
      },
      "execution_count": null,
      "outputs": []
    },
    {
      "cell_type": "markdown",
      "source": [
        "### 2.2 Sentiment Analysis on Summaries"
      ],
      "metadata": {
        "id": "RSm_uKq6QYiI"
      }
    },
    {
      "cell_type": "markdown",
      "source": [
        "Generate a bag of words representative of the entire corpus:"
      ],
      "metadata": {
        "id": "9_0MhFSGRHdF"
      }
    },
    {
      "cell_type": "code",
      "source": [],
      "metadata": {
        "id": "qaA3GLheV86R"
      },
      "execution_count": null,
      "outputs": []
    },
    {
      "cell_type": "markdown",
      "source": [
        "#### 2.3.1 Summary Feature Engineering"
      ],
      "metadata": {
        "id": "W_rR079PQ3Zf"
      }
    },
    {
      "cell_type": "markdown",
      "source": [
        "Generate the summaries for each passage of text that we can use as a \"summarized\" corpora"
      ],
      "metadata": {
        "id": "uPnzkYqQRSQO"
      }
    },
    {
      "cell_type": "markdown",
      "source": [
        "#### 2.3.2 Summarized Bag of Words"
      ],
      "metadata": {
        "id": "laz-aTE3OfEK"
      }
    },
    {
      "cell_type": "code",
      "source": [
        "%pip install  --no-cache-dir transformers sentencepiece torch tqdm"
      ],
      "metadata": {
        "id": "0RgPptU8V9dK",
        "colab": {
          "base_uri": "https://localhost:8080/"
        },
        "outputId": "2f81d8d5-242b-42b0-fbc6-814f3fcee961"
      },
      "execution_count": 3,
      "outputs": [
        {
          "output_type": "stream",
          "name": "stdout",
          "text": [
            "Requirement already satisfied: transformers in /usr/local/lib/python3.10/dist-packages (4.38.2)\n",
            "Requirement already satisfied: sentencepiece in /usr/local/lib/python3.10/dist-packages (0.1.99)\n",
            "Requirement already satisfied: torch in /usr/local/lib/python3.10/dist-packages (2.2.1+cu121)\n",
            "Requirement already satisfied: tqdm in /usr/local/lib/python3.10/dist-packages (4.66.2)\n",
            "Requirement already satisfied: filelock in /usr/local/lib/python3.10/dist-packages (from transformers) (3.13.4)\n",
            "Requirement already satisfied: huggingface-hub<1.0,>=0.19.3 in /usr/local/lib/python3.10/dist-packages (from transformers) (0.20.3)\n",
            "Requirement already satisfied: numpy>=1.17 in /usr/local/lib/python3.10/dist-packages (from transformers) (1.25.2)\n",
            "Requirement already satisfied: packaging>=20.0 in /usr/local/lib/python3.10/dist-packages (from transformers) (24.0)\n",
            "Requirement already satisfied: pyyaml>=5.1 in /usr/local/lib/python3.10/dist-packages (from transformers) (6.0.1)\n",
            "Requirement already satisfied: regex!=2019.12.17 in /usr/local/lib/python3.10/dist-packages (from transformers) (2023.12.25)\n",
            "Requirement already satisfied: requests in /usr/local/lib/python3.10/dist-packages (from transformers) (2.31.0)\n",
            "Requirement already satisfied: tokenizers<0.19,>=0.14 in /usr/local/lib/python3.10/dist-packages (from transformers) (0.15.2)\n",
            "Requirement already satisfied: safetensors>=0.4.1 in /usr/local/lib/python3.10/dist-packages (from transformers) (0.4.2)\n",
            "Requirement already satisfied: typing-extensions>=4.8.0 in /usr/local/lib/python3.10/dist-packages (from torch) (4.11.0)\n",
            "Requirement already satisfied: sympy in /usr/local/lib/python3.10/dist-packages (from torch) (1.12)\n",
            "Requirement already satisfied: networkx in /usr/local/lib/python3.10/dist-packages (from torch) (3.3)\n",
            "Requirement already satisfied: jinja2 in /usr/local/lib/python3.10/dist-packages (from torch) (3.1.3)\n",
            "Requirement already satisfied: fsspec in /usr/local/lib/python3.10/dist-packages (from torch) (2023.6.0)\n",
            "Collecting nvidia-cuda-nvrtc-cu12==12.1.105 (from torch)\n",
            "  Downloading nvidia_cuda_nvrtc_cu12-12.1.105-py3-none-manylinux1_x86_64.whl (23.7 MB)\n",
            "\u001b[2K     \u001b[90m━━━━━━━━━━━━━━━━━━━━━━━━━━━━━━━━━━━━━━━━\u001b[0m \u001b[32m23.7/23.7 MB\u001b[0m \u001b[31m88.1 MB/s\u001b[0m eta \u001b[36m0:00:00\u001b[0m\n",
            "\u001b[?25hCollecting nvidia-cuda-runtime-cu12==12.1.105 (from torch)\n",
            "  Downloading nvidia_cuda_runtime_cu12-12.1.105-py3-none-manylinux1_x86_64.whl (823 kB)\n",
            "\u001b[2K     \u001b[90m━━━━━━━━━━━━━━━━━━━━━━━━━━━━━━━━━━━━━━━━\u001b[0m \u001b[32m823.6/823.6 kB\u001b[0m \u001b[31m149.1 MB/s\u001b[0m eta \u001b[36m0:00:00\u001b[0m\n",
            "\u001b[?25hCollecting nvidia-cuda-cupti-cu12==12.1.105 (from torch)\n",
            "  Downloading nvidia_cuda_cupti_cu12-12.1.105-py3-none-manylinux1_x86_64.whl (14.1 MB)\n",
            "\u001b[2K     \u001b[90m━━━━━━━━━━━━━━━━━━━━━━━━━━━━━━━━━━━━━━━━\u001b[0m \u001b[32m14.1/14.1 MB\u001b[0m \u001b[31m114.0 MB/s\u001b[0m eta \u001b[36m0:00:00\u001b[0m\n",
            "\u001b[?25hCollecting nvidia-cudnn-cu12==8.9.2.26 (from torch)\n",
            "  Downloading nvidia_cudnn_cu12-8.9.2.26-py3-none-manylinux1_x86_64.whl (731.7 MB)\n",
            "\u001b[2K     \u001b[90m━━━━━━━━━━━━━━━━━━━━━━━━━━━━━━━━━━━━━━━━\u001b[0m \u001b[32m731.7/731.7 MB\u001b[0m \u001b[31m47.0 MB/s\u001b[0m eta \u001b[36m0:00:00\u001b[0m\n",
            "\u001b[?25hCollecting nvidia-cublas-cu12==12.1.3.1 (from torch)\n",
            "  Downloading nvidia_cublas_cu12-12.1.3.1-py3-none-manylinux1_x86_64.whl (410.6 MB)\n",
            "\u001b[2K     \u001b[90m━━━━━━━━━━━━━━━━━━━━━━━━━━━━━━━━━━━━━━━━\u001b[0m \u001b[32m410.6/410.6 MB\u001b[0m \u001b[31m67.6 MB/s\u001b[0m eta \u001b[36m0:00:00\u001b[0m\n",
            "\u001b[?25hCollecting nvidia-cufft-cu12==11.0.2.54 (from torch)\n",
            "  Downloading nvidia_cufft_cu12-11.0.2.54-py3-none-manylinux1_x86_64.whl (121.6 MB)\n",
            "\u001b[2K     \u001b[90m━━━━━━━━━━━━━━━━━━━━━━━━━━━━━━━━━━━━━━━━\u001b[0m \u001b[32m121.6/121.6 MB\u001b[0m \u001b[31m53.0 MB/s\u001b[0m eta \u001b[36m0:00:00\u001b[0m\n",
            "\u001b[?25hCollecting nvidia-curand-cu12==10.3.2.106 (from torch)\n",
            "  Downloading nvidia_curand_cu12-10.3.2.106-py3-none-manylinux1_x86_64.whl (56.5 MB)\n",
            "\u001b[2K     \u001b[90m━━━━━━━━━━━━━━━━━━━━━━━━━━━━━━━━━━━━━━━━\u001b[0m \u001b[32m56.5/56.5 MB\u001b[0m \u001b[31m40.9 MB/s\u001b[0m eta \u001b[36m0:00:00\u001b[0m\n",
            "\u001b[?25hCollecting nvidia-cusolver-cu12==11.4.5.107 (from torch)\n",
            "  Downloading nvidia_cusolver_cu12-11.4.5.107-py3-none-manylinux1_x86_64.whl (124.2 MB)\n",
            "\u001b[2K     \u001b[90m━━━━━━━━━━━━━━━━━━━━━━━━━━━━━━━━━━━━━━━━\u001b[0m \u001b[32m124.2/124.2 MB\u001b[0m \u001b[31m130.4 MB/s\u001b[0m eta \u001b[36m0:00:00\u001b[0m\n",
            "\u001b[?25hCollecting nvidia-cusparse-cu12==12.1.0.106 (from torch)\n",
            "  Downloading nvidia_cusparse_cu12-12.1.0.106-py3-none-manylinux1_x86_64.whl (196.0 MB)\n",
            "\u001b[2K     \u001b[90m━━━━━━━━━━━━━━━━━━━━━━━━━━━━━━━━━━━━━━━━\u001b[0m \u001b[32m196.0/196.0 MB\u001b[0m \u001b[31m124.4 MB/s\u001b[0m eta \u001b[36m0:00:00\u001b[0m\n",
            "\u001b[?25hCollecting nvidia-nccl-cu12==2.19.3 (from torch)\n",
            "  Downloading nvidia_nccl_cu12-2.19.3-py3-none-manylinux1_x86_64.whl (166.0 MB)\n",
            "\u001b[2K     \u001b[90m━━━━━━━━━━━━━━━━━━━━━━━━━━━━━━━━━━━━━━━━\u001b[0m \u001b[32m166.0/166.0 MB\u001b[0m \u001b[31m65.8 MB/s\u001b[0m eta \u001b[36m0:00:00\u001b[0m\n",
            "\u001b[?25hCollecting nvidia-nvtx-cu12==12.1.105 (from torch)\n",
            "  Downloading nvidia_nvtx_cu12-12.1.105-py3-none-manylinux1_x86_64.whl (99 kB)\n",
            "\u001b[2K     \u001b[90m━━━━━━━━━━━━━━━━━━━━━━━━━━━━━━━━━━━━━━━━\u001b[0m \u001b[32m99.1/99.1 kB\u001b[0m \u001b[31m136.2 MB/s\u001b[0m eta \u001b[36m0:00:00\u001b[0m\n",
            "\u001b[?25hRequirement already satisfied: triton==2.2.0 in /usr/local/lib/python3.10/dist-packages (from torch) (2.2.0)\n",
            "Collecting nvidia-nvjitlink-cu12 (from nvidia-cusolver-cu12==11.4.5.107->torch)\n",
            "  Downloading nvidia_nvjitlink_cu12-12.4.127-py3-none-manylinux2014_x86_64.whl (21.1 MB)\n",
            "\u001b[2K     \u001b[90m━━━━━━━━━━━━━━━━━━━━━━━━━━━━━━━━━━━━━━━━\u001b[0m \u001b[32m21.1/21.1 MB\u001b[0m \u001b[31m69.9 MB/s\u001b[0m eta \u001b[36m0:00:00\u001b[0m\n",
            "\u001b[?25hRequirement already satisfied: MarkupSafe>=2.0 in /usr/local/lib/python3.10/dist-packages (from jinja2->torch) (2.1.5)\n",
            "Requirement already satisfied: charset-normalizer<4,>=2 in /usr/local/lib/python3.10/dist-packages (from requests->transformers) (3.3.2)\n",
            "Requirement already satisfied: idna<4,>=2.5 in /usr/local/lib/python3.10/dist-packages (from requests->transformers) (3.6)\n",
            "Requirement already satisfied: urllib3<3,>=1.21.1 in /usr/local/lib/python3.10/dist-packages (from requests->transformers) (2.0.7)\n",
            "Requirement already satisfied: certifi>=2017.4.17 in /usr/local/lib/python3.10/dist-packages (from requests->transformers) (2024.2.2)\n",
            "Requirement already satisfied: mpmath>=0.19 in /usr/local/lib/python3.10/dist-packages (from sympy->torch) (1.3.0)\n",
            "Installing collected packages: nvidia-nvtx-cu12, nvidia-nvjitlink-cu12, nvidia-nccl-cu12, nvidia-curand-cu12, nvidia-cufft-cu12, nvidia-cuda-runtime-cu12, nvidia-cuda-nvrtc-cu12, nvidia-cuda-cupti-cu12, nvidia-cublas-cu12, nvidia-cusparse-cu12, nvidia-cudnn-cu12, nvidia-cusolver-cu12\n",
            "Successfully installed nvidia-cublas-cu12-12.1.3.1 nvidia-cuda-cupti-cu12-12.1.105 nvidia-cuda-nvrtc-cu12-12.1.105 nvidia-cuda-runtime-cu12-12.1.105 nvidia-cudnn-cu12-8.9.2.26 nvidia-cufft-cu12-11.0.2.54 nvidia-curand-cu12-10.3.2.106 nvidia-cusolver-cu12-11.4.5.107 nvidia-cusparse-cu12-12.1.0.106 nvidia-nccl-cu12-2.19.3 nvidia-nvjitlink-cu12-12.4.127 nvidia-nvtx-cu12-12.1.105\n"
          ]
        }
      ]
    },
    {
      "cell_type": "markdown",
      "source": [
        "Import Libraries"
      ],
      "metadata": {
        "id": "beabsqdpD43Z"
      }
    },
    {
      "cell_type": "code",
      "source": [
        "from transformers import AutoTokenizer, AutoModelForSeq2SeqLM\n",
        "from tqdm.auto import tqdm"
      ],
      "metadata": {
        "id": "JJe0LtBOD4aF"
      },
      "execution_count": 4,
      "outputs": []
    },
    {
      "cell_type": "markdown",
      "source": [
        "Summary Generation Function"
      ],
      "metadata": {
        "id": "JUzTQqV4Ec53"
      }
    },
    {
      "cell_type": "code",
      "source": [
        "def generate_summary(text, tokenizer, model):\n",
        "    inputs = tokenizer(\n",
        "        text,\n",
        "        return_tensors=\"pt\",\n",
        "        max_length=1024,\n",
        "        truncation=True,\n",
        "        padding=\"max_length\",\n",
        "    )\n",
        "    summary_ids = model.generate(\n",
        "        input_ids=inputs[\"input_ids\"],\n",
        "        attention_mask=inputs[\"attention_mask\"],\n",
        "        max_length=150,\n",
        "        length_penalty=2.0,\n",
        "        num_beams=4,\n",
        "        early_stopping=True,\n",
        "    )\n",
        "    summary = tokenizer.decode(summary_ids[0], skip_special_tokens=True)\n",
        "    return summary"
      ],
      "metadata": {
        "id": "hAj4HruiEXjf"
      },
      "execution_count": 5,
      "outputs": []
    },
    {
      "cell_type": "markdown",
      "source": [
        "Main Function for Processing CSV File"
      ],
      "metadata": {
        "id": "FXJPwSjpEw0r"
      }
    },
    {
      "cell_type": "code",
      "source": [
        "def main(csv_file_path):\n",
        "    # Load the CSV file\n",
        "    data = pd.read_csv(csv_file_path).head(2)\n",
        "\n",
        "    # Load tokenizer and model\n",
        "    model_ckpt = \"google/pegasus-cnn_dailymail\"\n",
        "    tokenizer = AutoTokenizer.from_pretrained(model_ckpt, use_fast=False)\n",
        "    model = AutoModelForSeq2SeqLM.from_pretrained(model_ckpt)\n",
        "\n",
        "    # Generate summaries\n",
        "    tqdm.pandas()\n",
        "    data[\"summary\"] = data[\"intro\"].progress_apply(\n",
        "        lambda x: generate_summary(x, tokenizer, model)\n",
        "    )\n",
        "\n",
        "    # Save the updated DataFrame to a new CSV file\n",
        "    output_file_path = csv_file_path.replace(\".csv\", \"_with_summaries.csv\")\n",
        "    data.to_csv(output_file_path, index=False)\n",
        "\n",
        "    print(f\"Updated DataFrame saved to {output_file_path}\")\n"
      ],
      "metadata": {
        "id": "CNe70ckQEpFT"
      },
      "execution_count": 6,
      "outputs": []
    },
    {
      "cell_type": "code",
      "source": [
        "summarized_data = pd.read_csv(output_file_path)"
      ],
      "metadata": {
        "id": "rcKzFKIZFFqq",
        "colab": {
          "base_uri": "https://localhost:8080/",
          "height": 144
        },
        "outputId": "9af07031-1c72-49cd-842c-23129cdbc728"
      },
      "execution_count": 7,
      "outputs": [
        {
          "output_type": "error",
          "ename": "NameError",
          "evalue": "name 'output_file_path' is not defined",
          "traceback": [
            "\u001b[0;31m---------------------------------------------------------------------------\u001b[0m",
            "\u001b[0;31mNameError\u001b[0m                                 Traceback (most recent call last)",
            "\u001b[0;32m<ipython-input-7-1840d2c517af>\u001b[0m in \u001b[0;36m<cell line: 1>\u001b[0;34m()\u001b[0m\n\u001b[0;32m----> 1\u001b[0;31m \u001b[0msummarized_data\u001b[0m \u001b[0;34m=\u001b[0m \u001b[0mpd\u001b[0m\u001b[0;34m.\u001b[0m\u001b[0mread_csv\u001b[0m\u001b[0;34m(\u001b[0m\u001b[0moutput_file_path\u001b[0m\u001b[0;34m)\u001b[0m\u001b[0;34m\u001b[0m\u001b[0;34m\u001b[0m\u001b[0m\n\u001b[0m",
            "\u001b[0;31mNameError\u001b[0m: name 'output_file_path' is not defined"
          ]
        }
      ]
    },
    {
      "cell_type": "markdown",
      "source": [
        "Analyzing the Summaries"
      ],
      "metadata": {
        "id": "Et0sI4wDE9nf"
      }
    },
    {
      "cell_type": "code",
      "source": [
        "# Calculate the length of the original texts and their summaries\n",
        "summarized_data['original_length'] = summarized_data['intro'].apply(len)\n",
        "summarized_data['summary_length'] = summarized_data['summary'].apply(len)\n",
        "\n",
        "# Display the data with new columns\n",
        "display(summarized_data[['original_length', 'summary_length']])\n"
      ],
      "metadata": {
        "id": "FDnb0nM4FC64"
      },
      "execution_count": null,
      "outputs": []
    },
    {
      "cell_type": "markdown",
      "source": [
        "Visualization"
      ],
      "metadata": {
        "id": "H80vFY6fFWk0"
      }
    },
    {
      "cell_type": "code",
      "source": [
        "plt.figure(figsize=(10, 6))\n",
        "plt.bar(summarized_data.index, summarized_data['original_length'], label='Original Length')\n",
        "plt.bar(summarized_data.index, summarized_data['summary_length'], label='Summary Length', alpha=0.7)\n",
        "plt.ylabel('Length of Text')\n",
        "plt.title('Comparison of Original Text Length to Summary Length')\n",
        "plt.legend()\n",
        "plt.show()"
      ],
      "metadata": {
        "id": "JrwHyqsXFVck"
      },
      "execution_count": null,
      "outputs": []
    },
    {
      "cell_type": "markdown",
      "source": [
        "## 3. Results"
      ],
      "metadata": {
        "id": "H7TLZ7lIPUng"
      }
    },
    {
      "cell_type": "markdown",
      "source": [
        "Show the final metrics for each model / combination of models"
      ],
      "metadata": {
        "id": "H3lOJ45rRy_N"
      }
    },
    {
      "cell_type": "code",
      "source": [],
      "metadata": {
        "id": "Cp0SOs4WV_Xj"
      },
      "execution_count": null,
      "outputs": []
    },
    {
      "cell_type": "markdown",
      "source": [
        "## 4. Conclusion\n"
      ],
      "metadata": {
        "id": "MrV4glZJQ61_"
      }
    },
    {
      "cell_type": "markdown",
      "source": [
        "Conclude with a conclusion in the concluding paragraph"
      ],
      "metadata": {
        "id": "IckGD1UiWBt0"
      }
    }
  ]
}